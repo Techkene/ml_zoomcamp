{
 "cells": [
  {
   "cell_type": "markdown",
   "id": "efddde0f-788c-4594-bd9f-96f060eccb4e",
   "metadata": {},
   "source": [
    "# Course Lead Scoring"
   ]
  },
  {
   "cell_type": "code",
   "execution_count": 1,
   "id": "8ebb8db1-981d-4162-84a3-4f17dc9031ab",
   "metadata": {},
   "outputs": [],
   "source": [
    "# Imports of neccesary libaries\n",
    "import pandas as pd\n",
    "import numpy as np\n",
    "from sklearn.model_selection import train_test_split\n",
    "from sklearn.linear_model import LogisticRegression\n",
    "from sklearn.metrics import accuracy_score\n",
    "from sklearn.metrics import mutual_info_score"
   ]
  },
  {
   "cell_type": "code",
   "execution_count": 2,
   "id": "f0e6737a-4603-4602-981c-880a00b5bfd3",
   "metadata": {},
   "outputs": [
    {
     "name": "stdout",
     "output_type": "stream",
     "text": [
      "Dataset loaded. Shape: (1462, 9)\n"
     ]
    }
   ],
   "source": [
    "# Load dataset\n",
    "path = 'course_lead_scoring.csv'\n",
    "df = pd.read_csv(path)\n",
    "print('Dataset loaded. Shape:', df.shape)"
   ]
  },
  {
   "cell_type": "code",
   "execution_count": 3,
   "id": "eb388140-20aa-40f6-9d80-250975baa092",
   "metadata": {},
   "outputs": [
    {
     "name": "stdout",
     "output_type": "stream",
     "text": [
      "\n",
      "Missing values per column:\n",
      " lead_source                 128\n",
      "industry                    134\n",
      "number_of_courses_viewed      0\n",
      "annual_income               181\n",
      "employment_status           100\n",
      "location                     63\n",
      "interaction_count             0\n",
      "lead_score                    0\n",
      "converted                     0\n",
      "dtype: int64\n"
     ]
    }
   ],
   "source": [
    "# Data preparation: check missing values and impute\n",
    "missing_summary = df.isnull().sum()\n",
    "print('\\nMissing values per column:\\n', missing_summary)"
   ]
  },
  {
   "cell_type": "code",
   "execution_count": 4,
   "id": "d726a29c-d280-4a6c-b262-6a448c945721",
   "metadata": {},
   "outputs": [],
   "source": [
    "# Separate categorical and numerical columns\n",
    "cat_cols = df.select_dtypes(include=['object', 'category']).columns.tolist()\n",
    "num_cols = df.select_dtypes(include=[np.number]).columns.tolist()"
   ]
  },
  {
   "cell_type": "code",
   "execution_count": 5,
   "id": "d8e73053-e38f-470c-bcfe-1d031626362c",
   "metadata": {},
   "outputs": [
    {
     "name": "stdout",
     "output_type": "stream",
     "text": [
      "\n",
      "After imputation, missing values per column:\n",
      " lead_source                 0\n",
      "industry                    0\n",
      "number_of_courses_viewed    0\n",
      "annual_income               0\n",
      "employment_status           0\n",
      "location                    0\n",
      "interaction_count           0\n",
      "lead_score                  0\n",
      "converted                   0\n",
      "dtype: int64\n"
     ]
    }
   ],
   "source": [
    "# Impute: categorical -> 'NA', numerical -> 0.0\n",
    "for c in cat_cols:\n",
    "    if df[c].isnull().any():\n",
    "        df[c] = df[c].fillna('NA')\n",
    "for c in num_cols:\n",
    "    if df[c].isnull().any():\n",
    "        df[c] = df[c].fillna(0.0)\n",
    "\n",
    "print('\\nAfter imputation, missing values per column:\\n', df.isnull().sum())"
   ]
  },
  {
   "cell_type": "markdown",
   "id": "96d0fc8b-9ffb-4040-b807-8461730393ad",
   "metadata": {},
   "source": [
    "### Q1: What is the mode for the column 'industry'?"
   ]
  },
  {
   "cell_type": "code",
   "execution_count": 7,
   "id": "65a05add-167b-4dd9-9369-8e28234c197b",
   "metadata": {},
   "outputs": [
    {
     "name": "stdout",
     "output_type": "stream",
     "text": [
      "\n",
      "Q1 - Mode of industry column: retail\n"
     ]
    }
   ],
   "source": [
    "# Print the most frequent observation (mode)\n",
    "if 'industry' in df.columns:\n",
    "    mode_industry = df['industry'].mode()\n",
    "    if len(mode_industry) > 0:\n",
    "        mode_industry = mode_industry.iloc[0]\n",
    "    else:\n",
    "        mode_industry = None\n",
    "    print('\\nQ1 - Mode of industry column:', mode_industry)\n",
    "else:\n",
    "    print('\\nQ1 - Column \"industry\" not found in dataset')"
   ]
  },
  {
   "cell_type": "markdown",
   "id": "1444c8d3-6ee5-4fb2-97f8-16a1335138bc",
   "metadata": {},
   "source": [
    "### Q2: Correlation matrix for numerical features and find the pair with biggest correlation"
   ]
  },
  {
   "cell_type": "code",
   "execution_count": 8,
   "id": "fb6c7bc4-9a5a-4921-ba12-bc42d920ab3f",
   "metadata": {},
   "outputs": [
    {
     "name": "stdout",
     "output_type": "stream",
     "text": [
      "\n",
      "Numeric columns used for correlation:\n",
      " ['number_of_courses_viewed', 'annual_income', 'interaction_count', 'lead_score', 'converted']\n",
      "\n",
      "Correlation matrix:\n",
      "                           number_of_courses_viewed  annual_income  \\\n",
      "number_of_courses_viewed                  1.000000       0.009770   \n",
      "annual_income                             0.009770       1.000000   \n",
      "interaction_count                        -0.023565       0.027036   \n",
      "lead_score                               -0.004879       0.015610   \n",
      "converted                                 0.435914       0.053131   \n",
      "\n",
      "                          interaction_count  lead_score  converted  \n",
      "number_of_courses_viewed          -0.023565   -0.004879   0.435914  \n",
      "annual_income                      0.027036    0.015610   0.053131  \n",
      "interaction_count                  1.000000    0.009888   0.374573  \n",
      "lead_score                         0.009888    1.000000   0.193673  \n",
      "converted                          0.374573    0.193673   1.000000  \n"
     ]
    }
   ],
   "source": [
    "num_df = df[num_cols].copy()\n",
    "# Drop any constant columns to avoid NaNs in correlation\n",
    "num_df = num_df.loc[:, num_df.nunique() > 1]\n",
    "corr = num_df.corr()\n",
    "print('\\nNumeric columns used for correlation:\\n', num_df.columns.tolist())\n",
    "print('\\nCorrelation matrix:\\n', corr)"
   ]
  },
  {
   "cell_type": "code",
   "execution_count": 9,
   "id": "ccf103b6-d441-48d3-b75e-e7a1d7ee2ffa",
   "metadata": {},
   "outputs": [
    {
     "name": "stdout",
     "output_type": "stream",
     "text": [
      "\n",
      "Q2 - Candidate pair correlations:\n",
      "  ('interaction_count', 'lead_score'): 0.009888182496913131\n",
      "  ('number_of_courses_viewed', 'lead_score'): -0.004878998354681276\n",
      "  ('number_of_courses_viewed', 'interaction_count'): -0.023565222882888037\n",
      "  ('annual_income', 'interaction_count'): 0.02703647240481443\n"
     ]
    }
   ],
   "source": [
    "# Compute absolute correlations and inspect candidate pairs\n",
    "candidates = [\n",
    "    ('interaction_count', 'lead_score'),\n",
    "    ('number_of_courses_viewed', 'lead_score'),\n",
    "    ('number_of_courses_viewed', 'interaction_count'),\n",
    "    ('annual_income', 'interaction_count')\n",
    "]\n",
    "candidate_corrs = {}\n",
    "for a, b in candidates:\n",
    "    if a in corr.index and b in corr.columns:\n",
    "        candidate_corrs[(a, b)] = corr.loc[a, b]\n",
    "    else:\n",
    "        candidate_corrs[(a, b)] = np.nan\n",
    "\n",
    "print('\\nQ2 - Candidate pair correlations:')\n",
    "for k, v in candidate_corrs.items():\n",
    "    print(f'  {k}: {v}')"
   ]
  },
  {
   "cell_type": "code",
   "execution_count": 10,
   "id": "7905997d-da76-40fe-8cab-b9a57fc892c9",
   "metadata": {},
   "outputs": [
    {
     "name": "stdout",
     "output_type": "stream",
     "text": [
      "\n",
      "Q2 - Pair with largest correlation among candidates: ('annual_income', 'interaction_count')\n"
     ]
    }
   ],
   "source": [
    "# Find the pair (from the provided list) with the largest absolute correlation\n",
    "best_pair = max(candidate_corrs.items(), key=lambda x: abs(x[1]) if not np.isnan(x[1]) else -1)[0]\n",
    "print('\\nQ2 - Pair with largest correlation among candidates:', best_pair)"
   ]
  },
  {
   "cell_type": "markdown",
   "id": "88b84d94-70f9-4646-94aa-89e8c3d6e5c4",
   "metadata": {},
   "source": [
    "### Prepare target and split the data into train/val/test with 60/20/20"
   ]
  },
  {
   "cell_type": "code",
   "execution_count": 11,
   "id": "009ecc17-1167-46e3-ab09-0e11390a826e",
   "metadata": {},
   "outputs": [
    {
     "name": "stdout",
     "output_type": "stream",
     "text": [
      "\n",
      "Split sizes:\n",
      "  train: (877, 8) (877,)\n",
      "  val:   (292, 8) (292,)\n",
      "  test:  (293, 8) (293,)\n"
     ]
    }
   ],
   "source": [
    "# Ensure target column name - problem statement uses 'converted'\n",
    "if 'converted' not in df.columns:\n",
    "    raise ValueError('Target column \"converted\" not found in the dataset')\n",
    "\n",
    "# We'll stratify splits by the target to maintain class balance\n",
    "X_full = df.drop(columns=['converted']).copy()\n",
    "y_full = df['converted'].copy()\n",
    "\n",
    "# First split: train (60%) and temp (40%)\n",
    "X_train, X_temp, y_train, y_temp = train_test_split(\n",
    "    X_full, y_full, test_size=0.4, random_state=42, stratify=y_full\n",
    ")\n",
    "# Second split: from temp, create val (50% of temp => 20% overall) and test (50% of temp => 20% overall)\n",
    "X_val, X_test, y_val, y_test = train_test_split(\n",
    "    X_temp, y_temp, test_size=0.5, random_state=42, stratify=y_temp\n",
    ")\n",
    "\n",
    "print('\\nSplit sizes:')\n",
    "print('  train:', X_train.shape, y_train.shape)\n",
    "print('  val:  ', X_val.shape, y_val.shape)\n",
    "print('  test: ', X_test.shape, y_test.shape)\n"
   ]
  },
  {
   "cell_type": "markdown",
   "id": "ff99d837-e9bf-4e0f-817d-322a856341da",
   "metadata": {},
   "source": [
    "### Q3: Calculate mutual information score between converted and categorical variables using training set only."
   ]
  },
  {
   "cell_type": "code",
   "execution_count": 12,
   "id": "0a8ccbc7-86e0-4897-bcc6-4d2f32d482f0",
   "metadata": {},
   "outputs": [
    {
     "name": "stdout",
     "output_type": "stream",
     "text": [
      "\n",
      "Categorical columns considered for mutual information on training set:\n",
      " ['lead_source', 'industry', 'employment_status', 'location']\n",
      "\n",
      "Q3 - Mutual information scores (rounded to 2 decimals):\n",
      "  lead_source: 0.03\n",
      "  industry: 0.01\n",
      "  employment_status: 0.01\n",
      "  location: 0.0\n"
     ]
    }
   ],
   "source": [
    "# We'll compute mutual_info_score for each categorical variable\n",
    "# Identify categorical columns in original X (based on dtype object/category)\n",
    "train_cat_cols = X_train.select_dtypes(include=['object', 'category']).columns.tolist()\n",
    "print('\\nCategorical columns considered for mutual information on training set:\\n', train_cat_cols)\n",
    "\n",
    "mi_scores = {}\n",
    "for c in train_cat_cols:\n",
    "    # mutual_info_score expects discrete labels; convert to strings if needed\n",
    "    mi = mutual_info_score(y_train, X_train[c].astype(str))\n",
    "    mi_scores[c] = round(mi, 2)\n",
    "\n",
    "print('\\nQ3 - Mutual information scores (rounded to 2 decimals):')\n",
    "for k, v in mi_scores.items():\n",
    "    print(f'  {k}: {v}')"
   ]
  },
  {
   "cell_type": "code",
   "execution_count": 13,
   "id": "e5ad61ec-2eba-4387-ada1-ec302b7b2141",
   "metadata": {},
   "outputs": [
    {
     "name": "stdout",
     "output_type": "stream",
     "text": [
      "\n",
      "Q3 - Scores for provided options:\n",
      "  industry: 0.01\n",
      "  location: 0.0\n",
      "  lead_source: 0.03\n",
      "  employment_status: 0.01\n",
      "\n",
      "Q3 - Feature with biggest mutual information among the options: lead_source\n"
     ]
    }
   ],
   "source": [
    "# Determine which of the provided options has the biggest MI: industry, location, lead_source, employment_status\n",
    "options = ['industry', 'location', 'lead_source', 'employment_status']\n",
    "present_options = {opt: mi_scores.get(opt, None) for opt in options}\n",
    "print('\\nQ3 - Scores for provided options:')\n",
    "for k, v in present_options.items():\n",
    "    print(f'  {k}: {v}')\n",
    "\n",
    "best_mi_feature = max((opt for opt in options if present_options.get(opt) is not None),\n",
    "                      key=lambda x: present_options[x]) if any(present_options.values()) else None\n",
    "print('\\nQ3 - Feature with biggest mutual information among the options:', best_mi_feature)"
   ]
  },
  {
   "cell_type": "markdown",
   "id": "d2bf985c-89ad-4850-8e08-7164cb6fc324",
   "metadata": {},
   "source": [
    "### Q4: Train logistic regression with one-hot encoding for categorical variables."
   ]
  },
  {
   "cell_type": "code",
   "execution_count": 15,
   "id": "1fa81782-0e12-44c7-9a7c-fb236f7bdca9",
   "metadata": {},
   "outputs": [
    {
     "name": "stdout",
     "output_type": "stream",
     "text": [
      "\n",
      "After one-hot, number of features: 31\n"
     ]
    }
   ],
   "source": [
    "# We'll use pd.get_dummies on training set, and align val/test to train columns\n",
    "\n",
    "def prepare_onehot(X_train, X_val, X_test):\n",
    "    X_tr = pd.get_dummies(X_train, drop_first=False)\n",
    "    X_v = pd.get_dummies(X_val, drop_first=False)\n",
    "    X_te = pd.get_dummies(X_test, drop_first=False)\n",
    "    # Align columns\n",
    "    X_v = X_v.reindex(columns=X_tr.columns, fill_value=0)\n",
    "    X_te = X_te.reindex(columns=X_tr.columns, fill_value=0)\n",
    "    return X_tr, X_v, X_te\n",
    "\n",
    "X_train_enc, X_val_enc, X_test_enc = prepare_onehot(X_train, X_val, X_test)\n",
    "\n",
    "print('\\nAfter one-hot, number of features:', X_train_enc.shape[1])"
   ]
  },
  {
   "cell_type": "code",
   "execution_count": 16,
   "id": "44029cf3-0e81-49e6-95cf-1b20808776c3",
   "metadata": {},
   "outputs": [
    {
     "data": {
      "text/html": [
       "<style>#sk-container-id-1 {\n",
       "  /* Definition of color scheme common for light and dark mode */\n",
       "  --sklearn-color-text: black;\n",
       "  --sklearn-color-line: gray;\n",
       "  /* Definition of color scheme for unfitted estimators */\n",
       "  --sklearn-color-unfitted-level-0: #fff5e6;\n",
       "  --sklearn-color-unfitted-level-1: #f6e4d2;\n",
       "  --sklearn-color-unfitted-level-2: #ffe0b3;\n",
       "  --sklearn-color-unfitted-level-3: chocolate;\n",
       "  /* Definition of color scheme for fitted estimators */\n",
       "  --sklearn-color-fitted-level-0: #f0f8ff;\n",
       "  --sklearn-color-fitted-level-1: #d4ebff;\n",
       "  --sklearn-color-fitted-level-2: #b3dbfd;\n",
       "  --sklearn-color-fitted-level-3: cornflowerblue;\n",
       "\n",
       "  /* Specific color for light theme */\n",
       "  --sklearn-color-text-on-default-background: var(--sg-text-color, var(--theme-code-foreground, var(--jp-content-font-color1, black)));\n",
       "  --sklearn-color-background: var(--sg-background-color, var(--theme-background, var(--jp-layout-color0, white)));\n",
       "  --sklearn-color-border-box: var(--sg-text-color, var(--theme-code-foreground, var(--jp-content-font-color1, black)));\n",
       "  --sklearn-color-icon: #696969;\n",
       "\n",
       "  @media (prefers-color-scheme: dark) {\n",
       "    /* Redefinition of color scheme for dark theme */\n",
       "    --sklearn-color-text-on-default-background: var(--sg-text-color, var(--theme-code-foreground, var(--jp-content-font-color1, white)));\n",
       "    --sklearn-color-background: var(--sg-background-color, var(--theme-background, var(--jp-layout-color0, #111)));\n",
       "    --sklearn-color-border-box: var(--sg-text-color, var(--theme-code-foreground, var(--jp-content-font-color1, white)));\n",
       "    --sklearn-color-icon: #878787;\n",
       "  }\n",
       "}\n",
       "\n",
       "#sk-container-id-1 {\n",
       "  color: var(--sklearn-color-text);\n",
       "}\n",
       "\n",
       "#sk-container-id-1 pre {\n",
       "  padding: 0;\n",
       "}\n",
       "\n",
       "#sk-container-id-1 input.sk-hidden--visually {\n",
       "  border: 0;\n",
       "  clip: rect(1px 1px 1px 1px);\n",
       "  clip: rect(1px, 1px, 1px, 1px);\n",
       "  height: 1px;\n",
       "  margin: -1px;\n",
       "  overflow: hidden;\n",
       "  padding: 0;\n",
       "  position: absolute;\n",
       "  width: 1px;\n",
       "}\n",
       "\n",
       "#sk-container-id-1 div.sk-dashed-wrapped {\n",
       "  border: 1px dashed var(--sklearn-color-line);\n",
       "  margin: 0 0.4em 0.5em 0.4em;\n",
       "  box-sizing: border-box;\n",
       "  padding-bottom: 0.4em;\n",
       "  background-color: var(--sklearn-color-background);\n",
       "}\n",
       "\n",
       "#sk-container-id-1 div.sk-container {\n",
       "  /* jupyter's `normalize.less` sets `[hidden] { display: none; }`\n",
       "     but bootstrap.min.css set `[hidden] { display: none !important; }`\n",
       "     so we also need the `!important` here to be able to override the\n",
       "     default hidden behavior on the sphinx rendered scikit-learn.org.\n",
       "     See: https://github.com/scikit-learn/scikit-learn/issues/21755 */\n",
       "  display: inline-block !important;\n",
       "  position: relative;\n",
       "}\n",
       "\n",
       "#sk-container-id-1 div.sk-text-repr-fallback {\n",
       "  display: none;\n",
       "}\n",
       "\n",
       "div.sk-parallel-item,\n",
       "div.sk-serial,\n",
       "div.sk-item {\n",
       "  /* draw centered vertical line to link estimators */\n",
       "  background-image: linear-gradient(var(--sklearn-color-text-on-default-background), var(--sklearn-color-text-on-default-background));\n",
       "  background-size: 2px 100%;\n",
       "  background-repeat: no-repeat;\n",
       "  background-position: center center;\n",
       "}\n",
       "\n",
       "/* Parallel-specific style estimator block */\n",
       "\n",
       "#sk-container-id-1 div.sk-parallel-item::after {\n",
       "  content: \"\";\n",
       "  width: 100%;\n",
       "  border-bottom: 2px solid var(--sklearn-color-text-on-default-background);\n",
       "  flex-grow: 1;\n",
       "}\n",
       "\n",
       "#sk-container-id-1 div.sk-parallel {\n",
       "  display: flex;\n",
       "  align-items: stretch;\n",
       "  justify-content: center;\n",
       "  background-color: var(--sklearn-color-background);\n",
       "  position: relative;\n",
       "}\n",
       "\n",
       "#sk-container-id-1 div.sk-parallel-item {\n",
       "  display: flex;\n",
       "  flex-direction: column;\n",
       "}\n",
       "\n",
       "#sk-container-id-1 div.sk-parallel-item:first-child::after {\n",
       "  align-self: flex-end;\n",
       "  width: 50%;\n",
       "}\n",
       "\n",
       "#sk-container-id-1 div.sk-parallel-item:last-child::after {\n",
       "  align-self: flex-start;\n",
       "  width: 50%;\n",
       "}\n",
       "\n",
       "#sk-container-id-1 div.sk-parallel-item:only-child::after {\n",
       "  width: 0;\n",
       "}\n",
       "\n",
       "/* Serial-specific style estimator block */\n",
       "\n",
       "#sk-container-id-1 div.sk-serial {\n",
       "  display: flex;\n",
       "  flex-direction: column;\n",
       "  align-items: center;\n",
       "  background-color: var(--sklearn-color-background);\n",
       "  padding-right: 1em;\n",
       "  padding-left: 1em;\n",
       "}\n",
       "\n",
       "\n",
       "/* Toggleable style: style used for estimator/Pipeline/ColumnTransformer box that is\n",
       "clickable and can be expanded/collapsed.\n",
       "- Pipeline and ColumnTransformer use this feature and define the default style\n",
       "- Estimators will overwrite some part of the style using the `sk-estimator` class\n",
       "*/\n",
       "\n",
       "/* Pipeline and ColumnTransformer style (default) */\n",
       "\n",
       "#sk-container-id-1 div.sk-toggleable {\n",
       "  /* Default theme specific background. It is overwritten whether we have a\n",
       "  specific estimator or a Pipeline/ColumnTransformer */\n",
       "  background-color: var(--sklearn-color-background);\n",
       "}\n",
       "\n",
       "/* Toggleable label */\n",
       "#sk-container-id-1 label.sk-toggleable__label {\n",
       "  cursor: pointer;\n",
       "  display: block;\n",
       "  width: 100%;\n",
       "  margin-bottom: 0;\n",
       "  padding: 0.5em;\n",
       "  box-sizing: border-box;\n",
       "  text-align: center;\n",
       "}\n",
       "\n",
       "#sk-container-id-1 label.sk-toggleable__label-arrow:before {\n",
       "  /* Arrow on the left of the label */\n",
       "  content: \"▸\";\n",
       "  float: left;\n",
       "  margin-right: 0.25em;\n",
       "  color: var(--sklearn-color-icon);\n",
       "}\n",
       "\n",
       "#sk-container-id-1 label.sk-toggleable__label-arrow:hover:before {\n",
       "  color: var(--sklearn-color-text);\n",
       "}\n",
       "\n",
       "/* Toggleable content - dropdown */\n",
       "\n",
       "#sk-container-id-1 div.sk-toggleable__content {\n",
       "  max-height: 0;\n",
       "  max-width: 0;\n",
       "  overflow: hidden;\n",
       "  text-align: left;\n",
       "  /* unfitted */\n",
       "  background-color: var(--sklearn-color-unfitted-level-0);\n",
       "}\n",
       "\n",
       "#sk-container-id-1 div.sk-toggleable__content.fitted {\n",
       "  /* fitted */\n",
       "  background-color: var(--sklearn-color-fitted-level-0);\n",
       "}\n",
       "\n",
       "#sk-container-id-1 div.sk-toggleable__content pre {\n",
       "  margin: 0.2em;\n",
       "  border-radius: 0.25em;\n",
       "  color: var(--sklearn-color-text);\n",
       "  /* unfitted */\n",
       "  background-color: var(--sklearn-color-unfitted-level-0);\n",
       "}\n",
       "\n",
       "#sk-container-id-1 div.sk-toggleable__content.fitted pre {\n",
       "  /* unfitted */\n",
       "  background-color: var(--sklearn-color-fitted-level-0);\n",
       "}\n",
       "\n",
       "#sk-container-id-1 input.sk-toggleable__control:checked~div.sk-toggleable__content {\n",
       "  /* Expand drop-down */\n",
       "  max-height: 200px;\n",
       "  max-width: 100%;\n",
       "  overflow: auto;\n",
       "}\n",
       "\n",
       "#sk-container-id-1 input.sk-toggleable__control:checked~label.sk-toggleable__label-arrow:before {\n",
       "  content: \"▾\";\n",
       "}\n",
       "\n",
       "/* Pipeline/ColumnTransformer-specific style */\n",
       "\n",
       "#sk-container-id-1 div.sk-label input.sk-toggleable__control:checked~label.sk-toggleable__label {\n",
       "  color: var(--sklearn-color-text);\n",
       "  background-color: var(--sklearn-color-unfitted-level-2);\n",
       "}\n",
       "\n",
       "#sk-container-id-1 div.sk-label.fitted input.sk-toggleable__control:checked~label.sk-toggleable__label {\n",
       "  background-color: var(--sklearn-color-fitted-level-2);\n",
       "}\n",
       "\n",
       "/* Estimator-specific style */\n",
       "\n",
       "/* Colorize estimator box */\n",
       "#sk-container-id-1 div.sk-estimator input.sk-toggleable__control:checked~label.sk-toggleable__label {\n",
       "  /* unfitted */\n",
       "  background-color: var(--sklearn-color-unfitted-level-2);\n",
       "}\n",
       "\n",
       "#sk-container-id-1 div.sk-estimator.fitted input.sk-toggleable__control:checked~label.sk-toggleable__label {\n",
       "  /* fitted */\n",
       "  background-color: var(--sklearn-color-fitted-level-2);\n",
       "}\n",
       "\n",
       "#sk-container-id-1 div.sk-label label.sk-toggleable__label,\n",
       "#sk-container-id-1 div.sk-label label {\n",
       "  /* The background is the default theme color */\n",
       "  color: var(--sklearn-color-text-on-default-background);\n",
       "}\n",
       "\n",
       "/* On hover, darken the color of the background */\n",
       "#sk-container-id-1 div.sk-label:hover label.sk-toggleable__label {\n",
       "  color: var(--sklearn-color-text);\n",
       "  background-color: var(--sklearn-color-unfitted-level-2);\n",
       "}\n",
       "\n",
       "/* Label box, darken color on hover, fitted */\n",
       "#sk-container-id-1 div.sk-label.fitted:hover label.sk-toggleable__label.fitted {\n",
       "  color: var(--sklearn-color-text);\n",
       "  background-color: var(--sklearn-color-fitted-level-2);\n",
       "}\n",
       "\n",
       "/* Estimator label */\n",
       "\n",
       "#sk-container-id-1 div.sk-label label {\n",
       "  font-family: monospace;\n",
       "  font-weight: bold;\n",
       "  display: inline-block;\n",
       "  line-height: 1.2em;\n",
       "}\n",
       "\n",
       "#sk-container-id-1 div.sk-label-container {\n",
       "  text-align: center;\n",
       "}\n",
       "\n",
       "/* Estimator-specific */\n",
       "#sk-container-id-1 div.sk-estimator {\n",
       "  font-family: monospace;\n",
       "  border: 1px dotted var(--sklearn-color-border-box);\n",
       "  border-radius: 0.25em;\n",
       "  box-sizing: border-box;\n",
       "  margin-bottom: 0.5em;\n",
       "  /* unfitted */\n",
       "  background-color: var(--sklearn-color-unfitted-level-0);\n",
       "}\n",
       "\n",
       "#sk-container-id-1 div.sk-estimator.fitted {\n",
       "  /* fitted */\n",
       "  background-color: var(--sklearn-color-fitted-level-0);\n",
       "}\n",
       "\n",
       "/* on hover */\n",
       "#sk-container-id-1 div.sk-estimator:hover {\n",
       "  /* unfitted */\n",
       "  background-color: var(--sklearn-color-unfitted-level-2);\n",
       "}\n",
       "\n",
       "#sk-container-id-1 div.sk-estimator.fitted:hover {\n",
       "  /* fitted */\n",
       "  background-color: var(--sklearn-color-fitted-level-2);\n",
       "}\n",
       "\n",
       "/* Specification for estimator info (e.g. \"i\" and \"?\") */\n",
       "\n",
       "/* Common style for \"i\" and \"?\" */\n",
       "\n",
       ".sk-estimator-doc-link,\n",
       "a:link.sk-estimator-doc-link,\n",
       "a:visited.sk-estimator-doc-link {\n",
       "  float: right;\n",
       "  font-size: smaller;\n",
       "  line-height: 1em;\n",
       "  font-family: monospace;\n",
       "  background-color: var(--sklearn-color-background);\n",
       "  border-radius: 1em;\n",
       "  height: 1em;\n",
       "  width: 1em;\n",
       "  text-decoration: none !important;\n",
       "  margin-left: 1ex;\n",
       "  /* unfitted */\n",
       "  border: var(--sklearn-color-unfitted-level-1) 1pt solid;\n",
       "  color: var(--sklearn-color-unfitted-level-1);\n",
       "}\n",
       "\n",
       ".sk-estimator-doc-link.fitted,\n",
       "a:link.sk-estimator-doc-link.fitted,\n",
       "a:visited.sk-estimator-doc-link.fitted {\n",
       "  /* fitted */\n",
       "  border: var(--sklearn-color-fitted-level-1) 1pt solid;\n",
       "  color: var(--sklearn-color-fitted-level-1);\n",
       "}\n",
       "\n",
       "/* On hover */\n",
       "div.sk-estimator:hover .sk-estimator-doc-link:hover,\n",
       ".sk-estimator-doc-link:hover,\n",
       "div.sk-label-container:hover .sk-estimator-doc-link:hover,\n",
       ".sk-estimator-doc-link:hover {\n",
       "  /* unfitted */\n",
       "  background-color: var(--sklearn-color-unfitted-level-3);\n",
       "  color: var(--sklearn-color-background);\n",
       "  text-decoration: none;\n",
       "}\n",
       "\n",
       "div.sk-estimator.fitted:hover .sk-estimator-doc-link.fitted:hover,\n",
       ".sk-estimator-doc-link.fitted:hover,\n",
       "div.sk-label-container:hover .sk-estimator-doc-link.fitted:hover,\n",
       ".sk-estimator-doc-link.fitted:hover {\n",
       "  /* fitted */\n",
       "  background-color: var(--sklearn-color-fitted-level-3);\n",
       "  color: var(--sklearn-color-background);\n",
       "  text-decoration: none;\n",
       "}\n",
       "\n",
       "/* Span, style for the box shown on hovering the info icon */\n",
       ".sk-estimator-doc-link span {\n",
       "  display: none;\n",
       "  z-index: 9999;\n",
       "  position: relative;\n",
       "  font-weight: normal;\n",
       "  right: .2ex;\n",
       "  padding: .5ex;\n",
       "  margin: .5ex;\n",
       "  width: min-content;\n",
       "  min-width: 20ex;\n",
       "  max-width: 50ex;\n",
       "  color: var(--sklearn-color-text);\n",
       "  box-shadow: 2pt 2pt 4pt #999;\n",
       "  /* unfitted */\n",
       "  background: var(--sklearn-color-unfitted-level-0);\n",
       "  border: .5pt solid var(--sklearn-color-unfitted-level-3);\n",
       "}\n",
       "\n",
       ".sk-estimator-doc-link.fitted span {\n",
       "  /* fitted */\n",
       "  background: var(--sklearn-color-fitted-level-0);\n",
       "  border: var(--sklearn-color-fitted-level-3);\n",
       "}\n",
       "\n",
       ".sk-estimator-doc-link:hover span {\n",
       "  display: block;\n",
       "}\n",
       "\n",
       "/* \"?\"-specific style due to the `<a>` HTML tag */\n",
       "\n",
       "#sk-container-id-1 a.estimator_doc_link {\n",
       "  float: right;\n",
       "  font-size: 1rem;\n",
       "  line-height: 1em;\n",
       "  font-family: monospace;\n",
       "  background-color: var(--sklearn-color-background);\n",
       "  border-radius: 1rem;\n",
       "  height: 1rem;\n",
       "  width: 1rem;\n",
       "  text-decoration: none;\n",
       "  /* unfitted */\n",
       "  color: var(--sklearn-color-unfitted-level-1);\n",
       "  border: var(--sklearn-color-unfitted-level-1) 1pt solid;\n",
       "}\n",
       "\n",
       "#sk-container-id-1 a.estimator_doc_link.fitted {\n",
       "  /* fitted */\n",
       "  border: var(--sklearn-color-fitted-level-1) 1pt solid;\n",
       "  color: var(--sklearn-color-fitted-level-1);\n",
       "}\n",
       "\n",
       "/* On hover */\n",
       "#sk-container-id-1 a.estimator_doc_link:hover {\n",
       "  /* unfitted */\n",
       "  background-color: var(--sklearn-color-unfitted-level-3);\n",
       "  color: var(--sklearn-color-background);\n",
       "  text-decoration: none;\n",
       "}\n",
       "\n",
       "#sk-container-id-1 a.estimator_doc_link.fitted:hover {\n",
       "  /* fitted */\n",
       "  background-color: var(--sklearn-color-fitted-level-3);\n",
       "}\n",
       "</style><div id=\"sk-container-id-1\" class=\"sk-top-container\"><div class=\"sk-text-repr-fallback\"><pre>LogisticRegression(max_iter=1000, random_state=42, solver=&#x27;liblinear&#x27;)</pre><b>In a Jupyter environment, please rerun this cell to show the HTML representation or trust the notebook. <br />On GitHub, the HTML representation is unable to render, please try loading this page with nbviewer.org.</b></div><div class=\"sk-container\" hidden><div class=\"sk-item\"><div class=\"sk-estimator fitted sk-toggleable\"><input class=\"sk-toggleable__control sk-hidden--visually\" id=\"sk-estimator-id-1\" type=\"checkbox\" checked><label for=\"sk-estimator-id-1\" class=\"sk-toggleable__label fitted sk-toggleable__label-arrow fitted\">&nbsp;&nbsp;LogisticRegression<a class=\"sk-estimator-doc-link fitted\" rel=\"noreferrer\" target=\"_blank\" href=\"https://scikit-learn.org/1.5/modules/generated/sklearn.linear_model.LogisticRegression.html\">?<span>Documentation for LogisticRegression</span></a><span class=\"sk-estimator-doc-link fitted\">i<span>Fitted</span></span></label><div class=\"sk-toggleable__content fitted\"><pre>LogisticRegression(max_iter=1000, random_state=42, solver=&#x27;liblinear&#x27;)</pre></div> </div></div></div></div>"
      ],
      "text/plain": [
       "LogisticRegression(max_iter=1000, random_state=42, solver='liblinear')"
      ]
     },
     "execution_count": 16,
     "metadata": {},
     "output_type": "execute_result"
    }
   ],
   "source": [
    "# Fit logistic regression as specified\n",
    "model = LogisticRegression(solver='liblinear', C=1.0, max_iter=1000, random_state=42)\n",
    "model.fit(X_train_enc, y_train)"
   ]
  },
  {
   "cell_type": "code",
   "execution_count": 17,
   "id": "2e304291-84c6-4586-841d-2297ce070773",
   "metadata": {},
   "outputs": [
    {
     "name": "stdout",
     "output_type": "stream",
     "text": [
      "\n",
      "Q4 - Validation accuracy (unrounded): 0.6815068493150684\n",
      "Q4 - Validation accuracy (rounded to 2 decimals): 0.68\n"
     ]
    }
   ],
   "source": [
    "# Accuracy on validation set\n",
    "y_val_pred = model.predict(X_val_enc)\n",
    "val_accuracy = accuracy_score(y_val, y_val_pred)\n",
    "print('\\nQ4 - Validation accuracy (unrounded):', val_accuracy)\n",
    "print('Q4 - Validation accuracy (rounded to 2 decimals):', round(val_accuracy, 2))"
   ]
  },
  {
   "cell_type": "markdown",
   "id": "2ceff04c-2ce6-4e9e-9cf4-61b25c4f0061",
   "metadata": {},
   "source": [
    "### Q5: Feature elimination (exclude each feature individually and compute accuracy drop)"
   ]
  },
  {
   "cell_type": "code",
   "execution_count": 18,
   "id": "eaa40b95-d945-43db-9227-261dd923d13a",
   "metadata": {},
   "outputs": [
    {
     "name": "stdout",
     "output_type": "stream",
     "text": [
      "\n",
      "Base validation accuracy used for feature elimination: 0.6815068493150684\n"
     ]
    }
   ],
   "source": [
    "# We're asked to test excluding 'industry', 'employment_status', 'lead_score'\n",
    "base_accuracy = val_accuracy\n",
    "print('\\nBase validation accuracy used for feature elimination:', base_accuracy)\n",
    "\n",
    "features_to_test = ['industry', 'employment_status', 'lead_score']\n",
    "accuracy_diffs = {}"
   ]
  },
  {
   "cell_type": "code",
   "execution_count": 19,
   "id": "5be0790c-6338-46db-8d0a-960d2e6f7364",
   "metadata": {},
   "outputs": [
    {
     "name": "stdout",
     "output_type": "stream",
     "text": [
      "Feature removed: industry -> val acc: 0.688356, diff: -0.006849\n",
      "Feature removed: employment_status -> val acc: 0.681507, diff: 0.000000\n",
      "Feature removed: lead_score -> val acc: 0.674658, diff: 0.006849\n"
     ]
    }
   ],
   "source": [
    "for feat in features_to_test:\n",
    "    X_tr_mod = X_train.copy()\n",
    "    X_v_mod = X_val.copy()\n",
    "    # If numeric feature, drop directly; if categorical, drop all one-hot columns starting with feat or equal to feat\n",
    "    if feat in X_tr_mod.columns and pd.api.types.is_numeric_dtype(X_tr_mod[feat].dtype):\n",
    "        X_tr_mod = X_tr_mod.drop(columns=[feat])\n",
    "        X_v_mod = X_v_mod.drop(columns=[feat])\n",
    "    else:\n",
    "        # drop categorical columns from the one-hot encoding\n",
    "        # Create one-hot for full set then drop columns that reference the feature\n",
    "        X_tr_ohe = pd.get_dummies(X_tr_mod, drop_first=False)\n",
    "        cols_to_drop = [c for c in X_tr_ohe.columns if c.startswith(feat + '_') or c == feat]\n",
    "        # Remove these columns from original X by dropping the corresponding categorical column before encoding\n",
    "        if feat in X_tr_mod.columns:\n",
    "            X_tr_mod = X_tr_mod.drop(columns=[feat])\n",
    "        if feat in X_v_mod.columns:\n",
    "            X_v_mod = X_v_mod.drop(columns=[feat])\n",
    "    # Re-encode after dropping\n",
    "    X_tr_enc_mod, X_v_enc_mod, _ = prepare_onehot(X_tr_mod, X_v_mod, X_test.head(0))\n",
    "    # Fit model\n",
    "    m = LogisticRegression(solver='liblinear', C=1.0, max_iter=1000, random_state=42)\n",
    "    m.fit(X_tr_enc_mod, y_train)\n",
    "    y_v_pred_mod = m.predict(X_v_enc_mod)\n",
    "    acc_mod = accuracy_score(y_val, y_v_pred_mod)\n",
    "    diff = base_accuracy - acc_mod\n",
    "    accuracy_diffs[feat] = diff\n",
    "    print(f'Feature removed: {feat} -> val acc: {acc_mod:.6f}, diff: {diff:.6f}')"
   ]
  },
  {
   "cell_type": "code",
   "execution_count": 20,
   "id": "25b167b3-465e-46fd-8202-9dd41ae29e78",
   "metadata": {},
   "outputs": [
    {
     "name": "stdout",
     "output_type": "stream",
     "text": [
      "\n",
      "Q5 - Feature with the smallest difference: industry\n"
     ]
    }
   ],
   "source": [
    "# Which feature has the smallest difference?\n",
    "smallest_diff_feat = min(accuracy_diffs.items(), key=lambda x: x[1])[0]\n",
    "print('\\nQ5 - Feature with the smallest difference:', smallest_diff_feat)"
   ]
  },
  {
   "cell_type": "markdown",
   "id": "0bd4785c-d44b-44de-8888-40ec9dbce07c",
   "metadata": {},
   "source": [
    "### Q6: Regularized logistic regression. Try Cs = [0.01, 0.1, 1, 10, 100]"
   ]
  },
  {
   "cell_type": "code",
   "execution_count": 21,
   "id": "947bc96e-849a-4c59-ae2d-72a145be5fac",
   "metadata": {},
   "outputs": [
    {
     "name": "stdout",
     "output_type": "stream",
     "text": [
      "C=0.01 -> val accuracy: 0.688\n",
      "C=0.1 -> val accuracy: 0.682\n",
      "C=1 -> val accuracy: 0.682\n",
      "C=10 -> val accuracy: 0.682\n",
      "C=100 -> val accuracy: 0.682\n",
      "\n",
      "Q6 - Best C (ties broken by smallest C): 0.01 with accuracy 0.688\n"
     ]
    }
   ],
   "source": [
    "Cs = [0.01, 0.1, 1, 10, 100]\n",
    "results_C = {}\n",
    "for C in Cs:\n",
    "    m = LogisticRegression(solver='liblinear', C=C, max_iter=1000, random_state=42)\n",
    "    m.fit(X_train_enc, y_train)\n",
    "    y_v_pred = m.predict(X_val_enc)\n",
    "    acc = accuracy_score(y_val, y_v_pred)\n",
    "    results_C[C] = round(acc, 3)\n",
    "    print(f'C={C} -> val accuracy: {results_C[C]:.3f}')\n",
    "\n",
    "# Find the best accuracy; if multiple, choose smallest C\n",
    "best_acc = max(results_C.values())\n",
    "best_Cs = sorted([C for C, acc in results_C.items() if acc == best_acc])\n",
    "best_C = best_Cs[0]\n",
    "print('\\nQ6 - Best C (ties broken by smallest C):', best_C, 'with accuracy', best_acc)"
   ]
  }
 ],
 "metadata": {
  "kernelspec": {
   "display_name": "Python 3 (ipykernel)",
   "language": "python",
   "name": "python3"
  },
  "language_info": {
   "codemirror_mode": {
    "name": "ipython",
    "version": 3
   },
   "file_extension": ".py",
   "mimetype": "text/x-python",
   "name": "python",
   "nbconvert_exporter": "python",
   "pygments_lexer": "ipython3",
   "version": "3.12.4"
  }
 },
 "nbformat": 4,
 "nbformat_minor": 5
}
