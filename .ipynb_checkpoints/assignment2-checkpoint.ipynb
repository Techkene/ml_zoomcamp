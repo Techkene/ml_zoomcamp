{
 "cells": [
  {
   "cell_type": "markdown",
   "id": "e68ef655-1ac8-45a9-b7fa-cbf30278dbc7",
   "metadata": {},
   "source": [
    "## Car Fuel Efficiency"
   ]
  },
  {
   "cell_type": "code",
   "execution_count": 17,
   "id": "e1d1abc9-0865-4d4f-ac22-beeca6704c91",
   "metadata": {},
   "outputs": [],
   "source": [
    "import pandas as pd\n",
    "import numpy as np\n",
    "from math import sqrt\n",
    "from sklearn.model_selection import train_test_split\n",
    "from sklearn.linear_model import LinearRegression\n",
    "from sklearn.metrics import mean_squared_error"
   ]
  },
  {
   "cell_type": "markdown",
   "id": "8c97ebaa-23a9-42fd-a013-042d3968bb74",
   "metadata": {},
   "source": [
    "### Question 1. Missing values (1 point)\n",
    "\n",
    "\n",
    "'engine_displacement'\n",
    "\n",
    "'horsepower'\n",
    "\n",
    "'vehicle_weight'\n",
    "\n",
    "'model_year'"
   ]
  },
  {
   "cell_type": "code",
   "execution_count": 3,
   "id": "b360e7db-d435-46d5-8b27-51ddf4994675",
   "metadata": {},
   "outputs": [],
   "source": [
    "df = pd.read_csv(\"car_fuel_efficiency.csv\")"
   ]
  },
  {
   "cell_type": "code",
   "execution_count": 4,
   "id": "9296d276-0f58-439d-a75d-4cc983d7306e",
   "metadata": {},
   "outputs": [
    {
     "data": {
      "text/html": [
       "<div>\n",
       "<style scoped>\n",
       "    .dataframe tbody tr th:only-of-type {\n",
       "        vertical-align: middle;\n",
       "    }\n",
       "\n",
       "    .dataframe tbody tr th {\n",
       "        vertical-align: top;\n",
       "    }\n",
       "\n",
       "    .dataframe thead th {\n",
       "        text-align: right;\n",
       "    }\n",
       "</style>\n",
       "<table border=\"1\" class=\"dataframe\">\n",
       "  <thead>\n",
       "    <tr style=\"text-align: right;\">\n",
       "      <th></th>\n",
       "      <th>engine_displacement</th>\n",
       "      <th>num_cylinders</th>\n",
       "      <th>horsepower</th>\n",
       "      <th>vehicle_weight</th>\n",
       "      <th>acceleration</th>\n",
       "      <th>model_year</th>\n",
       "      <th>origin</th>\n",
       "      <th>fuel_type</th>\n",
       "      <th>drivetrain</th>\n",
       "      <th>num_doors</th>\n",
       "      <th>fuel_efficiency_mpg</th>\n",
       "    </tr>\n",
       "  </thead>\n",
       "  <tbody>\n",
       "    <tr>\n",
       "      <th>0</th>\n",
       "      <td>170</td>\n",
       "      <td>3.0</td>\n",
       "      <td>159.0</td>\n",
       "      <td>3413.433759</td>\n",
       "      <td>17.7</td>\n",
       "      <td>2003</td>\n",
       "      <td>Europe</td>\n",
       "      <td>Gasoline</td>\n",
       "      <td>All-wheel drive</td>\n",
       "      <td>0.0</td>\n",
       "      <td>13.231729</td>\n",
       "    </tr>\n",
       "    <tr>\n",
       "      <th>1</th>\n",
       "      <td>130</td>\n",
       "      <td>5.0</td>\n",
       "      <td>97.0</td>\n",
       "      <td>3149.664934</td>\n",
       "      <td>17.8</td>\n",
       "      <td>2007</td>\n",
       "      <td>USA</td>\n",
       "      <td>Gasoline</td>\n",
       "      <td>Front-wheel drive</td>\n",
       "      <td>0.0</td>\n",
       "      <td>13.688217</td>\n",
       "    </tr>\n",
       "    <tr>\n",
       "      <th>2</th>\n",
       "      <td>170</td>\n",
       "      <td>NaN</td>\n",
       "      <td>78.0</td>\n",
       "      <td>3079.038997</td>\n",
       "      <td>15.1</td>\n",
       "      <td>2018</td>\n",
       "      <td>Europe</td>\n",
       "      <td>Gasoline</td>\n",
       "      <td>Front-wheel drive</td>\n",
       "      <td>0.0</td>\n",
       "      <td>14.246341</td>\n",
       "    </tr>\n",
       "    <tr>\n",
       "      <th>3</th>\n",
       "      <td>220</td>\n",
       "      <td>4.0</td>\n",
       "      <td>NaN</td>\n",
       "      <td>2542.392402</td>\n",
       "      <td>20.2</td>\n",
       "      <td>2009</td>\n",
       "      <td>USA</td>\n",
       "      <td>Diesel</td>\n",
       "      <td>All-wheel drive</td>\n",
       "      <td>2.0</td>\n",
       "      <td>16.912736</td>\n",
       "    </tr>\n",
       "    <tr>\n",
       "      <th>4</th>\n",
       "      <td>210</td>\n",
       "      <td>1.0</td>\n",
       "      <td>140.0</td>\n",
       "      <td>3460.870990</td>\n",
       "      <td>14.4</td>\n",
       "      <td>2009</td>\n",
       "      <td>Europe</td>\n",
       "      <td>Gasoline</td>\n",
       "      <td>All-wheel drive</td>\n",
       "      <td>2.0</td>\n",
       "      <td>12.488369</td>\n",
       "    </tr>\n",
       "    <tr>\n",
       "      <th>...</th>\n",
       "      <td>...</td>\n",
       "      <td>...</td>\n",
       "      <td>...</td>\n",
       "      <td>...</td>\n",
       "      <td>...</td>\n",
       "      <td>...</td>\n",
       "      <td>...</td>\n",
       "      <td>...</td>\n",
       "      <td>...</td>\n",
       "      <td>...</td>\n",
       "      <td>...</td>\n",
       "    </tr>\n",
       "    <tr>\n",
       "      <th>9699</th>\n",
       "      <td>140</td>\n",
       "      <td>5.0</td>\n",
       "      <td>164.0</td>\n",
       "      <td>2981.107371</td>\n",
       "      <td>17.3</td>\n",
       "      <td>2013</td>\n",
       "      <td>Europe</td>\n",
       "      <td>Diesel</td>\n",
       "      <td>Front-wheel drive</td>\n",
       "      <td>NaN</td>\n",
       "      <td>15.101802</td>\n",
       "    </tr>\n",
       "    <tr>\n",
       "      <th>9700</th>\n",
       "      <td>180</td>\n",
       "      <td>NaN</td>\n",
       "      <td>154.0</td>\n",
       "      <td>2439.525729</td>\n",
       "      <td>15.0</td>\n",
       "      <td>2004</td>\n",
       "      <td>USA</td>\n",
       "      <td>Gasoline</td>\n",
       "      <td>All-wheel drive</td>\n",
       "      <td>0.0</td>\n",
       "      <td>17.962326</td>\n",
       "    </tr>\n",
       "    <tr>\n",
       "      <th>9701</th>\n",
       "      <td>220</td>\n",
       "      <td>2.0</td>\n",
       "      <td>138.0</td>\n",
       "      <td>2583.471318</td>\n",
       "      <td>15.1</td>\n",
       "      <td>2008</td>\n",
       "      <td>USA</td>\n",
       "      <td>Diesel</td>\n",
       "      <td>All-wheel drive</td>\n",
       "      <td>-1.0</td>\n",
       "      <td>17.186587</td>\n",
       "    </tr>\n",
       "    <tr>\n",
       "      <th>9702</th>\n",
       "      <td>230</td>\n",
       "      <td>4.0</td>\n",
       "      <td>177.0</td>\n",
       "      <td>2905.527390</td>\n",
       "      <td>19.4</td>\n",
       "      <td>2011</td>\n",
       "      <td>USA</td>\n",
       "      <td>Diesel</td>\n",
       "      <td>Front-wheel drive</td>\n",
       "      <td>1.0</td>\n",
       "      <td>15.331551</td>\n",
       "    </tr>\n",
       "    <tr>\n",
       "      <th>9703</th>\n",
       "      <td>270</td>\n",
       "      <td>3.0</td>\n",
       "      <td>140.0</td>\n",
       "      <td>2908.043477</td>\n",
       "      <td>14.7</td>\n",
       "      <td>2005</td>\n",
       "      <td>Asia</td>\n",
       "      <td>Diesel</td>\n",
       "      <td>All-wheel drive</td>\n",
       "      <td>-1.0</td>\n",
       "      <td>14.884467</td>\n",
       "    </tr>\n",
       "  </tbody>\n",
       "</table>\n",
       "<p>9704 rows × 11 columns</p>\n",
       "</div>"
      ],
      "text/plain": [
       "      engine_displacement  num_cylinders  horsepower  vehicle_weight  \\\n",
       "0                     170            3.0       159.0     3413.433759   \n",
       "1                     130            5.0        97.0     3149.664934   \n",
       "2                     170            NaN        78.0     3079.038997   \n",
       "3                     220            4.0         NaN     2542.392402   \n",
       "4                     210            1.0       140.0     3460.870990   \n",
       "...                   ...            ...         ...             ...   \n",
       "9699                  140            5.0       164.0     2981.107371   \n",
       "9700                  180            NaN       154.0     2439.525729   \n",
       "9701                  220            2.0       138.0     2583.471318   \n",
       "9702                  230            4.0       177.0     2905.527390   \n",
       "9703                  270            3.0       140.0     2908.043477   \n",
       "\n",
       "      acceleration  model_year  origin fuel_type         drivetrain  \\\n",
       "0             17.7        2003  Europe  Gasoline    All-wheel drive   \n",
       "1             17.8        2007     USA  Gasoline  Front-wheel drive   \n",
       "2             15.1        2018  Europe  Gasoline  Front-wheel drive   \n",
       "3             20.2        2009     USA    Diesel    All-wheel drive   \n",
       "4             14.4        2009  Europe  Gasoline    All-wheel drive   \n",
       "...            ...         ...     ...       ...                ...   \n",
       "9699          17.3        2013  Europe    Diesel  Front-wheel drive   \n",
       "9700          15.0        2004     USA  Gasoline    All-wheel drive   \n",
       "9701          15.1        2008     USA    Diesel    All-wheel drive   \n",
       "9702          19.4        2011     USA    Diesel  Front-wheel drive   \n",
       "9703          14.7        2005    Asia    Diesel    All-wheel drive   \n",
       "\n",
       "      num_doors  fuel_efficiency_mpg  \n",
       "0           0.0            13.231729  \n",
       "1           0.0            13.688217  \n",
       "2           0.0            14.246341  \n",
       "3           2.0            16.912736  \n",
       "4           2.0            12.488369  \n",
       "...         ...                  ...  \n",
       "9699        NaN            15.101802  \n",
       "9700        0.0            17.962326  \n",
       "9701       -1.0            17.186587  \n",
       "9702        1.0            15.331551  \n",
       "9703       -1.0            14.884467  \n",
       "\n",
       "[9704 rows x 11 columns]"
      ]
     },
     "execution_count": 4,
     "metadata": {},
     "output_type": "execute_result"
    }
   ],
   "source": [
    "df"
   ]
  },
  {
   "cell_type": "code",
   "execution_count": 5,
   "id": "e905a9ff-1f94-4768-b5f1-628d3969e7ef",
   "metadata": {},
   "outputs": [
    {
     "name": "stdout",
     "output_type": "stream",
     "text": [
      "<class 'pandas.core.frame.DataFrame'>\n",
      "RangeIndex: 9704 entries, 0 to 9703\n",
      "Data columns (total 11 columns):\n",
      " #   Column               Non-Null Count  Dtype  \n",
      "---  ------               --------------  -----  \n",
      " 0   engine_displacement  9704 non-null   int64  \n",
      " 1   num_cylinders        9222 non-null   float64\n",
      " 2   horsepower           8996 non-null   float64\n",
      " 3   vehicle_weight       9704 non-null   float64\n",
      " 4   acceleration         8774 non-null   float64\n",
      " 5   model_year           9704 non-null   int64  \n",
      " 6   origin               9704 non-null   object \n",
      " 7   fuel_type            9704 non-null   object \n",
      " 8   drivetrain           9704 non-null   object \n",
      " 9   num_doors            9202 non-null   float64\n",
      " 10  fuel_efficiency_mpg  9704 non-null   float64\n",
      "dtypes: float64(6), int64(2), object(3)\n",
      "memory usage: 834.1+ KB\n"
     ]
    }
   ],
   "source": [
    "df.info()"
   ]
  },
  {
   "cell_type": "markdown",
   "id": "f3df2dcf-b105-4a73-b8c3-8c9d1d618f51",
   "metadata": {},
   "source": [
    "### Question 2. Median for horse power (1 point)\n",
    "\n",
    "\n",
    "49\n",
    "\n",
    "99\n",
    "\n",
    "149\n",
    "\n",
    "199"
   ]
  },
  {
   "cell_type": "code",
   "execution_count": 6,
   "id": "bb3c3996-49b8-456a-8908-0581a05a539f",
   "metadata": {},
   "outputs": [
    {
     "data": {
      "text/plain": [
       "149.0"
      ]
     },
     "execution_count": 6,
     "metadata": {},
     "output_type": "execute_result"
    }
   ],
   "source": [
    "df[\"horsepower\"].median()"
   ]
  },
  {
   "cell_type": "markdown",
   "id": "ea4fd122-e6b4-4ce8-b879-dbf01b954868",
   "metadata": {},
   "source": [
    "### Building a model after filling null with mean"
   ]
  },
  {
   "cell_type": "code",
   "execution_count": null,
   "id": "1afff7d9-a95d-49ab-b5e0-353ded7ad302",
   "metadata": {},
   "outputs": [],
   "source": []
  },
  {
   "cell_type": "code",
   "execution_count": 7,
   "id": "09cc4b2b-63c3-4844-a7d9-73e334f62930",
   "metadata": {},
   "outputs": [
    {
     "name": "stdout",
     "output_type": "stream",
     "text": [
      "\n",
      "Missing values per column:\n",
      "engine_displacement      0\n",
      "num_cylinders          482\n",
      "horsepower             708\n",
      "vehicle_weight           0\n",
      "acceleration           930\n",
      "model_year               0\n",
      "origin                   0\n",
      "fuel_type                0\n",
      "drivetrain               0\n",
      "num_doors              502\n",
      "fuel_efficiency_mpg      0\n",
      "dtype: int64\n"
     ]
    }
   ],
   "source": [
    "# Identify Missing Values\n",
    "print(\"\\nMissing values per column:\")\n",
    "print(df.isna().sum())"
   ]
  },
  {
   "cell_type": "code",
   "execution_count": null,
   "id": "ef17d966-ad21-4b1c-870e-84f0c92180da",
   "metadata": {},
   "outputs": [],
   "source": [
    "# From inspection, 'horsepower' has missing values.\n",
    "# Target variable (to predict fuel efficiency)\n",
    "target = \"fuel_efficiency_mpg\"\n",
    "\n",
    "# We'll use numeric columns as features\n",
    "features = ['engine_displacement', 'num_cylinders', 'horsepower',\n",
    "            'vehicle_weight', 'acceleration', 'model_year', 'num_doors']\n",
    "\n",
    "# Drop rows with missing target\n",
    "df = df.dropna(subset=[target]).reset_index(drop=True)"
   ]
  },
  {
   "cell_type": "code",
   "execution_count": 11,
   "id": "51a9aa8b-a58b-4a39-bcc1-75782b05d04e",
   "metadata": {},
   "outputs": [
    {
     "name": "stdout",
     "output_type": "stream",
     "text": [
      "\n",
      "Split sizes:\n",
      "Train: 5822 Validation: 1941 Test: 1941\n"
     ]
    }
   ],
   "source": [
    "# Split Data (60/20/20)\n",
    "\n",
    "\n",
    "def split_data(data, seed=42):\n",
    "    \"\"\"Split dataset into train, validation, and test sets.\"\"\"\n",
    "    train_val, test = train_test_split(data, test_size=0.2, random_state=seed)\n",
    "    train, val = train_test_split(train_val, test_size=0.25, random_state=seed)  # 0.25 of 80% = 20%\n",
    "    return train.reset_index(drop=True), val.reset_index(drop=True), test.reset_index(drop=True)\n",
    "\n",
    "train, val, test = split_data(df, seed=42)\n",
    "print(\"\\nSplit sizes:\")\n",
    "print(\"Train:\", len(train), \"Validation:\", len(val), \"Test:\", len(test))"
   ]
  },
  {
   "cell_type": "code",
   "execution_count": 12,
   "id": "b3747597-e6d8-43de-9f94-0b61c2938db8",
   "metadata": {},
   "outputs": [],
   "source": [
    "# Prepare X, y Data\n",
    "\n",
    "def prepare_xy(data, fill_method, train_means=None):\n",
    "    \"\"\"Prepare feature matrix X and target vector y with chosen fill method.\"\"\"\n",
    "    X = data[features].copy()\n",
    "    y = data[target].values\n",
    "    if fill_method == 'zero':\n",
    "        X = X.fillna(0)\n",
    "    elif fill_method == 'mean':\n",
    "        X = X.fillna(train_means)\n",
    "    else:\n",
    "        raise ValueError(\"Invalid fill method: use 'zero' or 'mean'\")\n",
    "    return X, y"
   ]
  },
  {
   "cell_type": "code",
   "execution_count": 13,
   "id": "88642226-4cf0-4a9a-83b2-4574bb35c258",
   "metadata": {},
   "outputs": [],
   "source": [
    "train_means = train[features].mean()"
   ]
  },
  {
   "cell_type": "code",
   "execution_count": 18,
   "id": "5dd91fed-a128-4d15-949a-40dca4ace938",
   "metadata": {},
   "outputs": [
    {
     "name": "stdout",
     "output_type": "stream",
     "text": [
      "\n",
      "RMSE (validation set):\n",
      "Fill with 0   → RMSE = 0.5\n",
      "Fill with mean → RMSE = 0.39\n"
     ]
    }
   ],
   "source": [
    "# 5. Train and Evaluate Models\n",
    "from sklearn.linear_model import LinearRegression\n",
    "\n",
    "def train_and_evaluate(train, val, fill_method, train_means=None):\n",
    "    \"\"\"Train a Linear Regression model and compute RMSE on validation.\"\"\"\n",
    "    X_train, y_train = prepare_xy(train, fill_method, train_means)\n",
    "    X_val, y_val = prepare_xy(val, fill_method, train_means)\n",
    "\n",
    "    model = LinearRegression()\n",
    "    model.fit(X_train, y_train)\n",
    "\n",
    "    y_pred = model.predict(X_val)\n",
    "    rmse = sqrt(mean_squared_error(y_val, y_pred))\n",
    "    return round(rmse, 2)\n",
    "\n",
    "# RMSE with filling missing values with 0\n",
    "rmse_zero = train_and_evaluate(train, val, fill_method='zero')\n",
    "# RMSE with filling missing values with mean\n",
    "rmse_mean = train_and_evaluate(train, val, fill_method='mean', train_means=train_means)\n",
    "\n",
    "print(\"\\nRMSE (validation set):\")\n",
    "print(f\"Fill with 0   → RMSE = {rmse_zero}\")\n",
    "print(f\"Fill with mean → RMSE = {rmse_mean}\")"
   ]
  },
  {
   "cell_type": "code",
   "execution_count": null,
   "id": "f296bafe-14df-4e2f-9c70-238e0a38c5eb",
   "metadata": {},
   "outputs": [],
   "source": []
  },
  {
   "cell_type": "code",
   "execution_count": 19,
   "id": "378dbd4e-3180-4768-aff0-17158867445c",
   "metadata": {},
   "outputs": [
    {
     "name": "stdout",
     "output_type": "stream",
     "text": [
      "\n",
      "✅ Filling with mean gives better RMSE.\n"
     ]
    }
   ],
   "source": [
    "\n",
    "# 6. Choose Better Option\n",
    "\n",
    "if rmse_mean < rmse_zero:\n",
    "    print(\"\\n✅ Filling with mean gives better RMSE.\")\n",
    "else:\n",
    "    print(\"\\n✅ Filling with 0 gives better RMSE.\")"
   ]
  }
 ],
 "metadata": {
  "kernelspec": {
   "display_name": "Python 3 (ipykernel)",
   "language": "python",
   "name": "python3"
  },
  "language_info": {
   "codemirror_mode": {
    "name": "ipython",
    "version": 3
   },
   "file_extension": ".py",
   "mimetype": "text/x-python",
   "name": "python",
   "nbconvert_exporter": "python",
   "pygments_lexer": "ipython3",
   "version": "3.12.4"
  }
 },
 "nbformat": 4,
 "nbformat_minor": 5
}
