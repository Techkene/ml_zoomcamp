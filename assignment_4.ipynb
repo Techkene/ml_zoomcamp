{
 "cells": [
  {
   "cell_type": "markdown",
   "id": "42e5ac32-68d1-4261-8d75-e419c1896fd9",
   "metadata": {},
   "source": [
    "# Lead Scoring Model Evaluation Notebook"
   ]
  },
  {
   "cell_type": "code",
   "execution_count": 2,
   "id": "0c16612b-fba6-4e0c-a541-27a8d030fa24",
   "metadata": {},
   "outputs": [],
   "source": [
    "import pandas as pd\n",
    "import numpy as np\n",
    "from sklearn.model_selection import train_test_split, StratifiedKFold, cross_val_score, GridSearchCV\n",
    "from sklearn.preprocessing import StandardScaler, OneHotEncoder\n",
    "from sklearn.compose import ColumnTransformer\n",
    "from sklearn.linear_model import LogisticRegression\n",
    "from sklearn.metrics import roc_auc_score, precision_score, recall_score, f1_score, roc_curve\n",
    "from sklearn.pipeline import Pipeline\n",
    "import matplotlib.pyplot as plt"
   ]
  },
  {
   "cell_type": "code",
   "execution_count": 3,
   "id": "9466e1a9-9a0b-4a6b-8008-802cf5dd5a9d",
   "metadata": {},
   "outputs": [
    {
     "name": "stdout",
     "output_type": "stream",
     "text": [
      "Dataset Preview:\n"
     ]
    },
    {
     "data": {
      "text/html": [
       "<div>\n",
       "<style scoped>\n",
       "    .dataframe tbody tr th:only-of-type {\n",
       "        vertical-align: middle;\n",
       "    }\n",
       "\n",
       "    .dataframe tbody tr th {\n",
       "        vertical-align: top;\n",
       "    }\n",
       "\n",
       "    .dataframe thead th {\n",
       "        text-align: right;\n",
       "    }\n",
       "</style>\n",
       "<table border=\"1\" class=\"dataframe\">\n",
       "  <thead>\n",
       "    <tr style=\"text-align: right;\">\n",
       "      <th></th>\n",
       "      <th>lead_source</th>\n",
       "      <th>industry</th>\n",
       "      <th>number_of_courses_viewed</th>\n",
       "      <th>annual_income</th>\n",
       "      <th>employment_status</th>\n",
       "      <th>location</th>\n",
       "      <th>interaction_count</th>\n",
       "      <th>lead_score</th>\n",
       "      <th>converted</th>\n",
       "    </tr>\n",
       "  </thead>\n",
       "  <tbody>\n",
       "    <tr>\n",
       "      <th>0</th>\n",
       "      <td>paid_ads</td>\n",
       "      <td>NaN</td>\n",
       "      <td>1</td>\n",
       "      <td>79450.0</td>\n",
       "      <td>unemployed</td>\n",
       "      <td>south_america</td>\n",
       "      <td>4</td>\n",
       "      <td>0.94</td>\n",
       "      <td>1</td>\n",
       "    </tr>\n",
       "    <tr>\n",
       "      <th>1</th>\n",
       "      <td>social_media</td>\n",
       "      <td>retail</td>\n",
       "      <td>1</td>\n",
       "      <td>46992.0</td>\n",
       "      <td>employed</td>\n",
       "      <td>south_america</td>\n",
       "      <td>1</td>\n",
       "      <td>0.80</td>\n",
       "      <td>0</td>\n",
       "    </tr>\n",
       "    <tr>\n",
       "      <th>2</th>\n",
       "      <td>events</td>\n",
       "      <td>healthcare</td>\n",
       "      <td>5</td>\n",
       "      <td>78796.0</td>\n",
       "      <td>unemployed</td>\n",
       "      <td>australia</td>\n",
       "      <td>3</td>\n",
       "      <td>0.69</td>\n",
       "      <td>1</td>\n",
       "    </tr>\n",
       "    <tr>\n",
       "      <th>3</th>\n",
       "      <td>paid_ads</td>\n",
       "      <td>retail</td>\n",
       "      <td>2</td>\n",
       "      <td>83843.0</td>\n",
       "      <td>NaN</td>\n",
       "      <td>australia</td>\n",
       "      <td>1</td>\n",
       "      <td>0.87</td>\n",
       "      <td>0</td>\n",
       "    </tr>\n",
       "    <tr>\n",
       "      <th>4</th>\n",
       "      <td>referral</td>\n",
       "      <td>education</td>\n",
       "      <td>3</td>\n",
       "      <td>85012.0</td>\n",
       "      <td>self_employed</td>\n",
       "      <td>europe</td>\n",
       "      <td>3</td>\n",
       "      <td>0.62</td>\n",
       "      <td>1</td>\n",
       "    </tr>\n",
       "  </tbody>\n",
       "</table>\n",
       "</div>"
      ],
      "text/plain": [
       "    lead_source    industry  number_of_courses_viewed  annual_income  \\\n",
       "0      paid_ads         NaN                         1        79450.0   \n",
       "1  social_media      retail                         1        46992.0   \n",
       "2        events  healthcare                         5        78796.0   \n",
       "3      paid_ads      retail                         2        83843.0   \n",
       "4      referral   education                         3        85012.0   \n",
       "\n",
       "  employment_status       location  interaction_count  lead_score  converted  \n",
       "0        unemployed  south_america                  4        0.94          1  \n",
       "1          employed  south_america                  1        0.80          0  \n",
       "2        unemployed      australia                  3        0.69          1  \n",
       "3               NaN      australia                  1        0.87          0  \n",
       "4     self_employed         europe                  3        0.62          1  "
      ]
     },
     "metadata": {},
     "output_type": "display_data"
    }
   ],
   "source": [
    "# Load dataset\n",
    "file_path = 'course_lead_scoring.csv'\n",
    "data = pd.read_csv(file_path)\n",
    "\n",
    "# Display first few rows\n",
    "print('Dataset Preview:')\n",
    "display(data.head())\n",
    "\n",
    "\n",
    "\n"
   ]
  },
  {
   "cell_type": "markdown",
   "id": "6e65897c-52b0-4853-bfdc-b1490a88ff56",
   "metadata": {},
   "source": [
    "### Data preprocessing"
   ]
  },
  {
   "cell_type": "code",
   "execution_count": 5,
   "id": "7071d57f-7876-45d0-a399-78d742736c1f",
   "metadata": {},
   "outputs": [],
   "source": [
    "# Drop missing values if any\n",
    "data = data.dropna()\n",
    "\n",
    "# Separate features and target (assuming 'converted' is the target variable)\n",
    "X = data.drop('converted', axis=1)\n",
    "y = data['converted']\n"
   ]
  },
  {
   "cell_type": "code",
   "execution_count": 6,
   "id": "8dcb5a2c-6e72-435d-87a0-57e6729f04c2",
   "metadata": {},
   "outputs": [],
   "source": [
    "# Identify numeric and categorical columns\n",
    "num_cols = X.select_dtypes(include=[np.number]).columns\n",
    "cat_cols = X.select_dtypes(exclude=[np.number]).columns\n",
    "\n",
    "# Preprocessing: scale numeric features and one-hot encode categoricals\n",
    "preprocessor = ColumnTransformer(\n",
    "    transformers=[\n",
    "        ('num', StandardScaler(), num_cols),\n",
    "        ('cat', OneHotEncoder(drop='first', handle_unknown='ignore'), cat_cols)\n",
    "    ]\n",
    ")\n"
   ]
  },
  {
   "cell_type": "markdown",
   "id": "2eed0895-22e9-4eaa-aba8-87603c665745",
   "metadata": {},
   "source": [
    "### Train Logistic Regression model"
   ]
  },
  {
   "cell_type": "code",
   "execution_count": 8,
   "id": "1077cae0-f574-49bf-b887-f63f2b052234",
   "metadata": {},
   "outputs": [],
   "source": [
    "# Create pipeline with preprocessing and model\n",
    "log_reg = LogisticRegression(max_iter=1000, solver='liblinear')\n",
    "pipeline = Pipeline(steps=[('preprocessor', preprocessor), ('model', log_reg)])\n",
    "\n",
    "# Split dataset\n",
    "X_train, X_test, y_train, y_test = train_test_split(X, y, test_size=0.2, random_state=42, stratify=y)\n",
    "\n",
    "# Train model\n",
    "pipeline.fit(X_train, y_train)\n",
    "\n",
    "# Predict probabilities and labels\n",
    "y_pred_proba = pipeline.predict_proba(X_test)[:, 1]\n",
    "y_pred = pipeline.predict(X_test)"
   ]
  },
  {
   "cell_type": "markdown",
   "id": "dd2df2bc-abf4-43ab-b225-42a8d70b71f8",
   "metadata": {},
   "source": [
    "### Question 1: ROC AUC Feature Importance"
   ]
  },
  {
   "cell_type": "code",
   "execution_count": 10,
   "id": "7b7d3647-2366-4a86-ac06-9426ccdd2585",
   "metadata": {},
   "outputs": [
    {
     "name": "stdout",
     "output_type": "stream",
     "text": [
      "\n",
      "Feature Importance (sorted):\n",
      "                         Feature  Importance\n",
      "0       number_of_courses_viewed    1.965882\n",
      "16  employment_status_unemployed    1.724957\n",
      "2              interaction_count    1.688227\n",
      "6           lead_source_referral    1.621066\n",
      "5           lead_source_paid_ads    0.988996\n"
     ]
    }
   ],
   "source": [
    "log_reg_model = pipeline.named_steps['model']\n",
    "encoded_features = list(num_cols) + list(pipeline.named_steps['preprocessor'].transformers_[1][1].get_feature_names_out(cat_cols))\n",
    "importance = np.abs(log_reg_model.coef_[0])\n",
    "feature_importance = pd.DataFrame({'Feature': encoded_features, 'Importance': importance})\n",
    "feature_importance = feature_importance.sort_values(by='Importance', ascending=False)\n",
    "\n",
    "print(\"\\nFeature Importance (sorted):\")\n",
    "print(feature_importance.head())\n"
   ]
  },
  {
   "cell_type": "markdown",
   "id": "9a13a007-d0b6-4e29-a100-e0beec31e24f",
   "metadata": {},
   "source": [
    "Highest importance feature corresponds to the answer => lead_score"
   ]
  },
  {
   "cell_type": "markdown",
   "id": "dec56f83-5921-45dc-8a7e-8a1746608bd1",
   "metadata": {},
   "source": [
    "### Question 2: Model AUC"
   ]
  },
  {
   "cell_type": "code",
   "execution_count": 13,
   "id": "9cfa3533-9930-4dfb-90e5-aea04581d10c",
   "metadata": {},
   "outputs": [
    {
     "name": "stdout",
     "output_type": "stream",
     "text": [
      "\n",
      "Model AUC: 0.94\n"
     ]
    }
   ],
   "source": [
    "auc = roc_auc_score(y_test, y_pred_proba)\n",
    "print(f\"\\nModel AUC: {auc:.2f}\")"
   ]
  },
  {
   "cell_type": "markdown",
   "id": "e049be53-8f20-40d4-865a-6948ef14a769",
   "metadata": {},
   "source": [
    "### Question 3: Precision and Recall"
   ]
  },
  {
   "cell_type": "code",
   "execution_count": 15,
   "id": "d81866c4-9b10-4d42-a048-049c8852f3f6",
   "metadata": {},
   "outputs": [
    {
     "name": "stdout",
     "output_type": "stream",
     "text": [
      "Precision: 0.879\n",
      "Recall: 0.916\n"
     ]
    }
   ],
   "source": [
    "precision = precision_score(y_test, y_pred)\n",
    "recall = recall_score(y_test, y_pred)\n",
    "print(f\"Precision: {precision:.3f}\")\n",
    "print(f\"Recall: {recall:.3f}\")"
   ]
  },
  {
   "cell_type": "markdown",
   "id": "282f82a2-2d68-42f3-bfeb-a9a2f2860bbf",
   "metadata": {},
   "source": [
    "### Question 4: F1 Score"
   ]
  },
  {
   "cell_type": "code",
   "execution_count": 17,
   "id": "59f0648b-0b31-49d2-b07f-c75b20f70283",
   "metadata": {},
   "outputs": [
    {
     "name": "stdout",
     "output_type": "stream",
     "text": [
      "F1 Score: 0.897\n"
     ]
    }
   ],
   "source": [
    "f1 = f1_score(y_test, y_pred)\n",
    "print(f\"F1 Score: {f1:.3f}\")"
   ]
  },
  {
   "cell_type": "markdown",
   "id": "50a06a03-3b6c-495a-a11c-3995870ba159",
   "metadata": {},
   "source": [
    "### Question 5: 5-Fold Cross-Validation Standard Deviation"
   ]
  },
  {
   "cell_type": "code",
   "execution_count": 19,
   "id": "ba6cfd4f-7a4d-4474-a9d7-03c1403bbe47",
   "metadata": {},
   "outputs": [
    {
     "name": "stdout",
     "output_type": "stream",
     "text": [
      "5-Fold CV Standard Deviation: 0.008753\n"
     ]
    }
   ],
   "source": [
    "cv = StratifiedKFold(n_splits=5, shuffle=True, random_state=42)\n",
    "cv_scores = cross_val_score(pipeline, X, y, cv=cv, scoring='roc_auc')\n",
    "cv_std = np.std(cv_scores)\n",
    "print(f\"5-Fold CV Standard Deviation: {cv_std:.6f}\")"
   ]
  },
  {
   "cell_type": "markdown",
   "id": "97f58c44-7558-4641-a516-c19eb6d66895",
   "metadata": {},
   "source": [
    "### Question 6: Best C value using Grid Search"
   ]
  },
  {
   "cell_type": "code",
   "execution_count": 22,
   "id": "aef123b7-7ac5-4f43-82bb-adbbd4073737",
   "metadata": {},
   "outputs": [
    {
     "name": "stdout",
     "output_type": "stream",
     "text": [
      "Best C: 1\n"
     ]
    }
   ],
   "source": [
    "param_grid = {'model__C': [0.000001, 0.001, 1]}\n",
    "grid = GridSearchCV(pipeline, param_grid, cv=5, scoring='roc_auc')\n",
    "grid.fit(X, y)\n",
    "\n",
    "print(f\"Best C: {grid.best_params_['model__C']}\")"
   ]
  },
  {
   "cell_type": "code",
   "execution_count": 24,
   "id": "f02ffade-2c87-4935-807c-19c2209bc3fb",
   "metadata": {},
   "outputs": [
    {
     "data": {
      "image/png": "[encoded data removed]",
      "text/plain": [
       "<Figure size 640x480 with 1 Axes>"
      ]
     },
     "metadata": {},
     "output_type": "display_data"
    }
   ],
   "source": [
    "# ROC Curve Visualization\n",
    "fpr, tpr, _ = roc_curve(y_test, y_pred_proba)\n",
    "plt.plot(fpr, tpr, label=f'AUC = {auc:.2f}')\n",
    "plt.xlabel('False Positive Rate')\n",
    "plt.ylabel('True Positive Rate')\n",
    "plt.title('ROC Curve')\n",
    "plt.legend()\n",
    "plt.show()\n"
   ]
  },
  {
   "cell_type": "code",
   "execution_count": null,
   "id": "0ceb6b94-a1ed-4c31-bbb9-d95b9a495eb5",
   "metadata": {},
   "outputs": [],
   "source": []
  }
 ],
 "metadata": {
  "kernelspec": {
   "display_name": "Python 3 (ipykernel)",
   "language": "python",
   "name": "python3"
  },
  "language_info": {
   "codemirror_mode": {
    "name": "ipython",
    "version": 3
   },
   "file_extension": ".py",
   "mimetype": "text/x-python",
   "name": "python",
   "nbconvert_exporter": "python",
   "pygments_lexer": "ipython3",
   "version": "3.12.4"
  }
 },
 "nbformat": 4,
 "nbformat_minor": 5
}
